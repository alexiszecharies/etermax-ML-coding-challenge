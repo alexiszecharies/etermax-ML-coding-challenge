{
 "cells": [
  {
   "cell_type": "markdown",
   "metadata": {},
   "source": [
    "#### Intentemos hacer un resquest con los datos de la fila 3 del df"
   ]
  },
  {
   "cell_type": "code",
   "execution_count": 2,
   "metadata": {},
   "outputs": [],
   "source": [
    "import requests"
   ]
  },
  {
   "cell_type": "code",
   "execution_count": 24,
   "metadata": {},
   "outputs": [
    {
     "name": "stdout",
     "output_type": "stream",
     "text": [
      "{\"revenue_estimado\":0.12907626956799517}\n",
      "\n"
     ]
    }
   ],
   "source": [
    "url = \"http://localhost:5000/predict\"\n",
    "data = {\n",
    "    \"user_id\": 'a62c86b4',\n",
    "    \"country\":'uy',\n",
    "    \"country_region\": 'Departamento de Montevideo',\n",
    "    \"source\":'Organic',\n",
    "    \"platform\": 'Android',\n",
    "    \"device_family\":'samsung samsung SM-A107M',\n",
    "    \"os_version\": '10',\n",
    "    \"event_1\":0,\n",
    "    \"event_2\":4,\n",
    "    \"event_3\":0\n",
    "}\n",
    "print (requests.post(url, json=data).text)"
   ]
  },
  {
   "cell_type": "markdown",
   "metadata": {},
   "source": [
    "#### Vemos que el resultado es el mismo que el final del notebook Prueba ML Etermax, por lo que es correcto."
   ]
  }
 ],
 "metadata": {
  "kernelspec": {
   "display_name": "Python 3",
   "language": "python",
   "name": "python3"
  },
  "language_info": {
   "codemirror_mode": {
    "name": "ipython",
    "version": 3
   },
   "file_extension": ".py",
   "mimetype": "text/x-python",
   "name": "python",
   "nbconvert_exporter": "python",
   "pygments_lexer": "ipython3",
   "version": "3.7.6"
  }
 },
 "nbformat": 4,
 "nbformat_minor": 4
}
